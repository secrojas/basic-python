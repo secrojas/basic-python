{
  "nbformat": 4,
  "nbformat_minor": 0,
  "metadata": {
    "colab": {
      "name": "Python_Coder_Desafio_1+Rojas Sebastian",
      "provenance": [],
      "collapsed_sections": [],
      "authorship_tag": "ABX9TyPnT2w4WAyvTD8CqoZj8oLe",
      "include_colab_link": true
    },
    "kernelspec": {
      "name": "python3",
      "display_name": "Python 3"
    },
    "language_info": {
      "name": "python"
    }
  },
  "cells": [
    {
      "cell_type": "markdown",
      "metadata": {
        "id": "view-in-github",
        "colab_type": "text"
      },
      "source": [
        "<a href=\"https://colab.research.google.com/github/secrojas/basic-python/blob/main/Python_Coder_Desafio_1%2BRojas_Sebastian.ipynb\" target=\"_parent\"><img src=\"https://colab.research.google.com/assets/colab-badge.svg\" alt=\"Open In Colab\"/></a>"
      ]
    },
    {
      "cell_type": "code",
      "execution_count": null,
      "metadata": {
        "id": "lbX0Yx99JZoh"
      },
      "outputs": [],
      "source": [
        "nota1 = float(input('Ingresar la primer nota: '))\n",
        "calculo_1 = nota1*40/100\n",
        "\n",
        "nota2 = float(input('Ingresar la segunda nota: '))\n",
        "calculo_2 = nota2*60/100\n",
        "\n",
        "notaFinal = round(calculo_1 + calculo_2,2)\n",
        "\n",
        "print('La nota final es ' + str(notaFinal))"
      ]
    }
  ]
}