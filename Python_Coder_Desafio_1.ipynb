{
  "nbformat": 4,
  "nbformat_minor": 0,
  "metadata": {
    "colab": {
      "name": "Python Coder - Desafio 1",
      "provenance": [],
      "authorship_tag": "ABX9TyNaSu38mwZgxMpXNxO6ZzzB",
      "include_colab_link": true
    },
    "kernelspec": {
      "name": "python3",
      "display_name": "Python 3"
    },
    "language_info": {
      "name": "python"
    }
  },
  "cells": [
    {
      "cell_type": "markdown",
      "metadata": {
        "id": "view-in-github",
        "colab_type": "text"
      },
      "source": [
        "<a href=\"https://colab.research.google.com/github/secrojas/basic-python/blob/main/Python_Coder_Desafio_1.ipynb\" target=\"_parent\"><img src=\"https://colab.research.google.com/assets/colab-badge.svg\" alt=\"Open In Colab\"/></a>"
      ]
    },
    {
      "cell_type": "code",
      "execution_count": null,
      "metadata": {
        "id": "lbX0Yx99JZoh"
      },
      "outputs": [],
      "source": [
        "nota1 = int(input('Ingresar la primer nota: '))\n",
        "calculo_1 = nota1*40/100\n",
        "\n",
        "nota2 = int(input('Ingresar la segunda nota: '))\n",
        "calculo_2 = nota2*60/100\n",
        "\n",
        "notaFinal = calculo_1 + calculo_2\n",
        "\n",
        "print('La nota final es ' + str(notaFinal))"
      ]
    }
  ]
}